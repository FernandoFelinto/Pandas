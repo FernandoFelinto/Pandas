{
 "cells": [
  {
   "cell_type": "code",
   "execution_count": 1,
   "id": "49b3f9bf",
   "metadata": {},
   "outputs": [],
   "source": [
    "#importando pandas\n",
    "import pandas as pd"
   ]
  },
  {
   "cell_type": "code",
   "execution_count": null,
   "id": "91734fa6",
   "metadata": {},
   "outputs": [],
   "source": [
    "#abrindo arquivo Excel\n",
    "df = pd.read_excel(\"Dados aula 1.xlsx\")"
   ]
  },
  {
   "cell_type": "code",
   "execution_count": null,
   "id": "ba975f7d",
   "metadata": {},
   "outputs": [],
   "source": [
    "#verificando os nomes das abas com sheet_names\n"
   ]
  },
  {
   "cell_type": "code",
   "execution_count": null,
   "id": "a9c3c936",
   "metadata": {},
   "outputs": [],
   "source": [
    "#Especificando qual aba abrir\n"
   ]
  },
  {
   "cell_type": "code",
   "execution_count": null,
   "id": "2047da99",
   "metadata": {},
   "outputs": [],
   "source": [
    "#usando PARSE para selcionar as abas\n"
   ]
  },
  {
   "cell_type": "code",
   "execution_count": null,
   "id": "8ac8bd8b",
   "metadata": {},
   "outputs": [],
   "source": [
    "df.head()"
   ]
  }
 ],
 "metadata": {
  "kernelspec": {
   "display_name": "Python 3 (ipykernel)",
   "language": "python",
   "name": "python3"
  },
  "language_info": {
   "codemirror_mode": {
    "name": "ipython",
    "version": 3
   },
   "file_extension": ".py",
   "mimetype": "text/x-python",
   "name": "python",
   "nbconvert_exporter": "python",
   "pygments_lexer": "ipython3",
   "version": "3.11.5"
  }
 },
 "nbformat": 4,
 "nbformat_minor": 5
}
